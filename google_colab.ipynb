{
  "cells": [
    {
      "cell_type": "markdown",
      "metadata": {
        "id": "bA4zGNOKEZ9a"
      },
      "source": [
        "# Motivational Speech Synthesis – Google Colab Inference"
      ]
    },
    {
      "cell_type": "markdown",
      "metadata": {
        "id": "iXjhvdtlEZ9b"
      },
      "source": [
        "## Setup (make sure to choose T4 engine on Google Colab)"
      ]
    },
    {
      "cell_type": "markdown",
      "metadata": {
        "id": "WamXkSsDEZ9b"
      },
      "source": [
        "1. Clone `motivational-speech-synthesis` git"
      ]
    },
    {
      "cell_type": "code",
      "execution_count": null,
      "metadata": {
        "id": "kvjELSsnEZ9b",
        "vscode": {
          "languageId": "plaintext"
        }
      },
      "outputs": [],
      "source": [
        "!git clone https://github.com/MotivationalSpeechSynthesis/motivational-speech-synthesis.git"
      ]
    },
    {
      "cell_type": "markdown",
      "metadata": {
        "id": "J6n25CEJEZ9b"
      },
      "source": [
        "2. Change to corresponding working directory. (Re-run after prompted kernel restart)"
      ]
    },
    {
      "cell_type": "code",
      "execution_count": null,
      "metadata": {
        "id": "WitGVl44EZ9c",
        "vscode": {
          "languageId": "plaintext"
        }
      },
      "outputs": [],
      "source": [
        "%cd motivational-speech-synthesis"
      ]
    },
    {
      "cell_type": "markdown",
      "metadata": {
        "id": "fvcnmjVJEZ9c"
      },
      "source": [
        "3. Pull `EmoKnob` as submodule"
      ]
    },
    {
      "cell_type": "code",
      "execution_count": null,
      "metadata": {
        "id": "asnA9JQjEZ9c",
        "vscode": {
          "languageId": "plaintext"
        }
      },
      "outputs": [],
      "source": [
        "!git config submodule.emoknob.url https://github.com/tonychenxyz/emoknob.git\n",
        "!git submodule update --init --recursive"
      ]
    },
    {
      "cell_type": "markdown",
      "metadata": {
        "id": "yE0tRbFGEZ9d"
      },
      "source": [
        "4. Install requirements and make necessary adjustments"
      ]
    },
    {
      "cell_type": "code",
      "execution_count": null,
      "metadata": {
        "id": "F4jj6eQ_EZ9d",
        "vscode": {
          "languageId": "plaintext"
        }
      },
      "outputs": [],
      "source": [
        "!pip install -r requirements.txt"
      ]
    },
    {
      "cell_type": "code",
      "execution_count": null,
      "metadata": {
        "id": "DY6sPj2TEZ9d",
        "vscode": {
          "languageId": "plaintext"
        }
      },
      "outputs": [],
      "source": [
        "!pip uninstall wandb -y\n",
        "!ldconfig /usr/lib64-nvidia"
      ]
    },
    {
      "cell_type": "markdown",
      "metadata": {
        "id": "F8S19mcPEZ9e"
      },
      "source": [
        "## Inference"
      ]
    },
    {
      "cell_type": "markdown",
      "metadata": {
        "id": "LeB93SmREZ9e"
      },
      "source": [
        "1. Load and compile model"
      ]
    },
    {
      "cell_type": "code",
      "execution_count": null,
      "metadata": {
        "id": "-Qs8UI7zEZ9e",
        "vscode": {
          "languageId": "plaintext"
        }
      },
      "outputs": [],
      "source": [
        "from motivationalTTS import MotivationalTTSConfig, MotivationalTTSModel\n",
        "config = MotivationalTTSConfig(seed=None, debug=False)\n",
        "tts_model = MotivationalTTSModel(config)"
      ]
    },
    {
      "cell_type": "markdown",
      "metadata": {
        "id": "6kEvYwwzEZ9e"
      },
      "source": [
        "2. Set input text and generate audio"
      ]
    },
    {
      "cell_type": "code",
      "execution_count": null,
      "metadata": {
        "id": "PuoZr5NdEZ9e",
        "vscode": {
          "languageId": "plaintext"
        }
      },
      "outputs": [],
      "source": [
        "audio, sample_rate = tts_model.synthesize(\"No goal is too far away to be reached.\", motivational_factor=1.0)"
      ]
    },
    {
      "cell_type": "code",
      "execution_count": null,
      "metadata": {
        "id": "M1Rzt7xpEZ9e",
        "vscode": {
          "languageId": "plaintext"
        }
      },
      "outputs": [],
      "source": [
        "from IPython.display import Audio, display\n",
        "display(Audio(audio, rate=sample_rate))"
      ]
    }
  ],
  "metadata": {
    "colab": {
      "provenance": []
    },
    "language_info": {
      "name": "python"
    }
  },
  "nbformat": 4,
  "nbformat_minor": 0
}
